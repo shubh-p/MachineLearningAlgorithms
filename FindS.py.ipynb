{
 "cells": [
  {
   "cell_type": "code",
   "execution_count": 7,
   "metadata": {},
   "outputs": [
    {
     "name": "stdout",
     "output_type": "stream",
     "text": [
      "\n",
      " The Given Training Data Set \n",
      "\n",
      "['sunny', 'warm', 'normal', 'strong', 'warm', 'same', 'yes']\n",
      "['sunny', 'warm', 'high', 'strong', 'warm', 'same', 'yes']\n",
      "['rainy', 'cold', 'high', 'strong', 'warm', 'change', 'no']\n",
      "['sunny', 'warm', 'high', 'strong', 'cool', 'change', 'yes']\n",
      "\n",
      " The initial value of hypothesis: \n",
      "['0', '0', '0', '0', '0', '0']\n",
      "\n",
      " Find S: Finding a Maximally Specific Hypothesis\n",
      "\n",
      " For Training instance No:0 the hypothesis is  ['sunny', 'warm', 'normal', 'strong', 'warm', 'same']\n",
      " For Training instance No:1 the hypothesis is  ['sunny', 'warm', '?', 'strong', 'warm', 'same']\n",
      " For Training instance No:2 the hypothesis is  ['sunny', 'warm', '?', 'strong', 'warm', 'same']\n",
      " For Training instance No:3 the hypothesis is  ['sunny', 'warm', '?', 'strong', '?', '?']\n",
      "\n",
      " The Maximally Specific Hypothesis for a given Training Examples :\n",
      "\n",
      "['sunny', 'warm', '?', 'strong', '?', '?']\n"
     ]
    }
   ],
   "source": [
    "import csv\n",
    "num_attributes = 6\n",
    "a = []\n",
    "print(\"\\n The Given Training Data Set \\n\")\n",
    "with open('enjoysport.csv', 'r') as csvfile:\n",
    " \treader = csv.reader(csvfile)\n",
    " \tfor row in reader:\n",
    " \t\ta.append (row)\n",
    " \t\tprint(row)\n",
    "print(\"\\n The initial value of hypothesis: \")\n",
    "hypothesis = ['0'] * num_attributes\n",
    "print(hypothesis)\n",
    "for j in range(0,num_attributes):\n",
    " \thypothesis[j] = a[0][j];\n",
    "print(\"\\n Find S: Finding a Maximally Specific Hypothesis\\n\")\n",
    "for i in range(0,len(a)):\n",
    " \tif a[i][num_attributes]=='yes':\n",
    " \t\tfor j in range(0,num_attributes):\n",
    " \t\t\tif a[i][j]!=hypothesis[j]:\n",
    " \t\t\t\thypothesis[j]='?'\n",
    " \t\t\telse :\n",
    " \t\t\t\thypothesis[j]= a[i][j] \n",
    " \tprint(\" For Training instance No:{0} the hypothesis is \".format(i),hypothesis)\n",
    "print(\"\\n The Maximally Specific Hypothesis for a given Training Examples :\\n\")\n",
    "print(hypothesis)\n"
   ]
  },
  {
   "cell_type": "code",
   "execution_count": null,
   "metadata": {},
   "outputs": [],
   "source": []
  },
  {
   "cell_type": "code",
   "execution_count": null,
   "metadata": {},
   "outputs": [],
   "source": []
  }
 ],
 "metadata": {
  "kernelspec": {
   "display_name": "Python 3 (ipykernel)",
   "language": "python",
   "name": "python3"
  },
  "language_info": {
   "codemirror_mode": {
    "name": "ipython",
    "version": 3
   },
   "file_extension": ".py",
   "mimetype": "text/x-python",
   "name": "python",
   "nbconvert_exporter": "python",
   "pygments_lexer": "ipython3",
   "version": "3.11.0"
  }
 },
 "nbformat": 4,
 "nbformat_minor": 4
}
